{
 "cells": [
  {
   "cell_type": "code",
   "execution_count": 1,
   "metadata": {},
   "outputs": [],
   "source": [
    "from cv2 import cv2 as cv\n",
    "import numpy as np\n",
    "from local_tools import *\n",
    "import torchvision\n",
    "import torch\n",
    "from torchvision.models.detection.faster_rcnn import FastRCNNPredictor\n",
    "from torchvision import transforms\n",
    "\n",
    "%load_ext autoreload\n",
    "%autoreload 2"
   ]
  },
  {
   "cell_type": "code",
   "execution_count": 2,
   "metadata": {},
   "outputs": [],
   "source": [
    "frames, totalFrames = read_frames('../videos/traffic2.mp4')"
   ]
  },
  {
   "cell_type": "code",
   "execution_count": 3,
   "metadata": {},
   "outputs": [],
   "source": [
    "device = torch.device(\"cuda:0\") #Подрубайтунг"
   ]
  },
  {
   "cell_type": "code",
   "execution_count": 4,
   "metadata": {},
   "outputs": [],
   "source": [
    "model = torchvision.models.detection.fasterrcnn_resnet50_fpn(pretrained = True).to(device)"
   ]
  },
  {
   "cell_type": "code",
   "execution_count": 5,
   "metadata": {},
   "outputs": [],
   "source": [
    "convert_tensor = transforms.ToTensor()"
   ]
  },
  {
   "cell_type": "code",
   "execution_count": null,
   "metadata": {},
   "outputs": [],
   "source": []
  },
  {
   "cell_type": "code",
   "execution_count": 7,
   "metadata": {},
   "outputs": [],
   "source": [
    "model = model.eval()\n",
    "\n",
    "boxes = []\n",
    "threshold = 0.5\n",
    "\n",
    "playing = False\n",
    "\n",
    "frame_number = 0\n",
    "\n",
    "\n",
    "def set_frame_number(x):\n",
    "    global frame_number, totalFrames\n",
    "    frame_number = x % totalFrames\n",
    "\n",
    "\n",
    "cv.namedWindow('control')\n",
    "cv.createTrackbar('frame', 'control', 1, int(totalFrames) - 1, set_frame_number)\n",
    "\n",
    "with torch.no_grad():\n",
    "    model = model.cuda()\n",
    "    while True:\n",
    "        \n",
    "        if playing:\n",
    "            frame_number = (frame_number + 1) % totalFrames\n",
    "\n",
    "        frame = frames[frame_number].copy()\n",
    "\n",
    "        tenzor = torch.tensor(np.swapaxes(np.swapaxes(frame, 0, 2), 1, 2)).float() / 255.\n",
    "        pred = model([tenzor.to(device)])[0]\n",
    "        \n",
    "        if (pred!=None):\n",
    "            for i in range(len(pred[\"labels\"])):\n",
    "                if pred[\"scores\"][i] >= threshold and pred[\"labels\"][i] == 1:\n",
    "                    boxes = pred['boxes'][i]\n",
    "                    frame = cv.rectangle(frame, (int(boxes[0]), int(boxes[1]) ), ( int(boxes[2]),int(boxes[3])), (255,0,100), 2)\n",
    "\n",
    "        cv.imshow('img', frame)\n",
    "\n",
    "        k = cv.waitKey(1) & 0xFF\n",
    "\n",
    "        if k == ord('e'):\n",
    "            playing = not playing\n",
    "\n",
    "        if k == 27:\n",
    "            cv.destroyAllWindows()\n",
    "            break"
   ]
  },
  {
   "cell_type": "code",
   "execution_count": 7,
   "metadata": {},
   "outputs": [],
   "source": [
    "cv.destroyAllWindows()"
   ]
  },
  {
   "cell_type": "code",
   "execution_count": null,
   "metadata": {},
   "outputs": [],
   "source": []
  }
 ],
 "metadata": {
  "interpreter": {
   "hash": "0d083ba42aae9f9d11237e0be732a28f2bf1430ce107b8104c51f88075f06857"
  },
  "kernelspec": {
   "display_name": "Python 3.9.7 64-bit",
   "language": "python",
   "name": "python3"
  },
  "language_info": {
   "codemirror_mode": {
    "name": "ipython",
    "version": 3
   },
   "file_extension": ".py",
   "mimetype": "text/x-python",
   "name": "python",
   "nbconvert_exporter": "python",
   "pygments_lexer": "ipython3",
   "version": "3.9.7"
  },
  "orig_nbformat": 4
 },
 "nbformat": 4,
 "nbformat_minor": 2
}
